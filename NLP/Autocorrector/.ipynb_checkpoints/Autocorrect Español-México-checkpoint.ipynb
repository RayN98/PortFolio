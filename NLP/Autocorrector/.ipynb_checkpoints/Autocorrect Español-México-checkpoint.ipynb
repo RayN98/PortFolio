{
 "cells": [
  {
   "cell_type": "markdown",
   "id": "aed4e15b",
   "metadata": {},
   "source": [
    "# Autocorrector Español-México"
   ]
  },
  {
   "cell_type": "markdown",
   "id": "0c4539c0",
   "metadata": {},
   "source": [
    "The following notebook aims to create a simple Spanish-México autocorrect that covers each step of the process, from the compilation of the training corpus to its final test."
   ]
  },
  {
   "cell_type": "markdown",
   "id": "db2af256",
   "metadata": {},
   "source": [
    "## 1.- Gathering wikipedia corpus data\n",
    "In this section, we will be using gensim python library to build a corpus from the set of Spanish Wikipedia articles, which is freely to use, and tqdm to monitor the entire process."
   ]
  },
  {
   "cell_type": "code",
   "execution_count": 6,
   "id": "97eb1ec5",
   "metadata": {},
   "outputs": [],
   "source": [
    "# Ignoring certain warnings caused by incompatibility of some libraries versions with gensim\n",
    "import warnings\n",
    "warnings.filterwarnings(action='ignore', category=UserWarning, module='gensim')\n",
    "\n",
    "from gensim.corpora import WikiCorpus\n",
    "from tqdm import tqdm\n",
    "\n",
    "import re\n",
    "import pickle\n",
    "from collections import Counter"
   ]
  },
  {
   "cell_type": "markdown",
   "id": "acc28622",
   "metadata": {},
   "source": [
    "The following function opens the wiki.xml.bz2 file where the articles are located."
   ]
  },
  {
   "cell_type": "code",
   "execution_count": 7,
   "id": "b8dfd37e",
   "metadata": {},
   "outputs": [],
   "source": [
    "def make_corpus(in_f, out_f):\n",
    "    output = open(out_f, 'w', encoding=\"utf8\")\n",
    "    wiki = WikiCorpus(in_f)\n",
    "    for text in tqdm(wiki.get_texts()):\n",
    "        output.write(bytes(' '.join(text), 'utf-8').decode('utf-8') + '\\n')\n",
    "    output.close()\n",
    "    print('Processing complete!')"
   ]
  },
  {
   "cell_type": "markdown",
   "id": "a1243536",
   "metadata": {},
   "source": [
    "Calling the function with the path of the wiki file and the new document path will begin the process of making the corpus (Uncomment the row in the below section)"
   ]
  },
  {
   "cell_type": "code",
   "execution_count": 8,
   "id": "124fe3fc",
   "metadata": {
    "scrolled": true
   },
   "outputs": [
    {
     "name": "stderr",
     "output_type": "stream",
     "text": [
      "1591007it [1:05:32, 404.60it/s]\n"
     ]
    },
    {
     "name": "stdout",
     "output_type": "stream",
     "text": [
      "Processing complete!\n"
     ]
    }
   ],
   "source": [
    "wiki_path = \"C:/Python Projects/GitHub/Portfolio/NLP (Natural Languaje Processing)/Autocorrector/eswiki-latest-pages-articles.xml.bz2\"\n",
    "corpus_path = \"C:/Python Projects/GitHub/Portfolio/NLP (Natural Languaje Processing)/Autocorrector/wiki_es.txt\"\n",
    "\n",
    "# make_corpus(wiki_path, corpus_path)"
   ]
  },
  {
   "attachments": {
    "tqdm_2.jpg": {
     "image/jpeg": "[encoded data removed]"
    }
   },
   "cell_type": "markdown",
   "id": "e5477c74",
   "metadata": {},
   "source": [
    "![tqdm_2.jpg](attachment:tqdm_2.jpg)"
   ]
  },
  {
   "cell_type": "markdown",
   "id": "a15aa0ad",
   "metadata": {},
   "source": [
    "## 2.- Checking wikipedia corpus data\n",
    "The following section is going to be used to check the corpus lines opening the file we just former created "
   ]
  },
  {
   "cell_type": "code",
   "execution_count": null,
   "id": "82bd753e",
   "metadata": {},
   "outputs": [],
   "source": [
    "corpus_file = open(out_f, 'r', encoding='utf8')\n",
    "\n",
    "# Number of lines to check in the corpus\n",
    "lines_check = 1\n",
    "\n",
    "for lines in range(lines_check):\n",
    "    text = corpus_file.readline()\n",
    "    print(text)\n",
    "\n",
    "corpus_file.close()"
   ]
  },
  {
   "cell_type": "markdown",
   "id": "02c2f606",
   "metadata": {},
   "source": [
    "## 3.- Cleaning the corpus\n",
    "Spanish language has a lot of variants depending on the region, in this specific project we are interested in México. Furthermore, we will select only the words that contain characters used in this region (i.e; a, b, c, d, e, f, g, h, i, j, k, l, m, n, ñ, o, p, q, r, s, t, u, v, w, x, y, z, á, é, í, ó, ú, ü), which is the vocabulary.\n",
    "\n",
    "Dividing the documents into words, and using the RegEx library flags will do the work. Every text cleaned will be appended into a new document called wiki_clean_es.txt"
   ]
  },
  {
   "cell_type": "code",
   "execution_count": 11,
   "id": "11ec2594",
   "metadata": {},
   "outputs": [
    {
     "name": "stderr",
     "output_type": "stream",
     "text": [
      "100%|█████████████████████████████████████████████████████████████████████| 1591007/1591007 [1:34:28<00:00, 280.70it/s]\n"
     ]
    }
   ],
   "source": [
    "def clean_row(w):\n",
    "    text_divided = w.split(' ')\n",
    "    clean_text = []\n",
    "    # Create a dictionary to convert the vocabulary (characters) to integers\n",
    "    vocab = 'abcdefghijklmnñopqrstuvwxyzáéíóúü'\n",
    "    for word in text_divided:\n",
    "        x = [0 for word_spell in word if not re.search(word_spell, vocab)]\n",
    "        if len(x) == 0:\n",
    "            clean_text.append(word)\n",
    "    return \" \".join(clean_text)\n",
    "\n",
    "def clean_corpus(f_in, f_out):\n",
    "    clean_file = open(f_out, 'a', encoding='utf8')\n",
    "    with open(f_in, 'r', encoding='utf-8') as f:\n",
    "        text = f.readlines()\n",
    "    for lines in tqdm(text):\n",
    "        clean_file.write(f\"{clean_row(lines)}\\n\")"
   ]
  },
  {
   "cell_type": "code",
   "execution_count": null,
   "id": "d336869e",
   "metadata": {},
   "outputs": [],
   "source": [
    "clean_path = \"C:/Python Projects/GitHub/Portfolio/NLP (Natural Languaje Processing)/Autocorrector/wiki_clean_es.txt\"\n",
    "\n",
    "# clean_corpus(corpus_path, clean_path)"
   ]
  },
  {
   "cell_type": "markdown",
   "id": "9ea433d3",
   "metadata": {},
   "source": [
    "## 4.- Creating the text vocabulary and obtain probabilities\n",
    "As stated before, we will calculate the probability that each word is in a sentence to serve as the basis for the autocorrect.\n",
    "\n",
    "In the previous section we cleaned the words to the only ones that contain valid characters in Mexico. But we need to be sure that those words are meaningful. To be solve the problem, we will use the RAE (Real Academia Española) dictionary, also cleaning it to contain only words valid in México."
   ]
  },
  {
   "cell_type": "code",
   "execution_count": 16,
   "id": "5a51c554",
   "metadata": {},
   "outputs": [],
   "source": [
    "def get_vocab(f_in, f_path, f_rae):\n",
    "    # Load RAE Dictionary\n",
    "    with open(f_rae, 'r', encoding='utf-8') as g:\n",
    "        # Split RAE bDictionary into words\n",
    "        rae_dict = g.read().split('\\n')\n",
    "        letters = 'abcdefghijklmnñopqrstuvwxyzáéíóúü'\n",
    "        clean_rae_dict = []\n",
    "        # Clean RAE Dictionary\n",
    "        for word in rae_dict:\n",
    "            word = re.sub('\\d+', '', word)\n",
    "            word = re.sub('[.()-]', '', word)\n",
    "            x = [0 for word_spell in word if not re.search(word_spell, letters)]\n",
    "            if len(x) == 0:\n",
    "                clean_rae_dict.append(word)\n",
    "            else:\n",
    "                continue\n",
    "        # Create the initial vocabulary\n",
    "        g.close()\n",
    "        words_freq = {}\n",
    "        for word in clean_rae_dict:\n",
    "            words_freq[word] = 1\n",
    "\n",
    "    # Load corpus file\n",
    "    with open(f_in, 'r', encoding='utf-8') as f:\n",
    "        text = f.readlines()\n",
    "\n",
    "    # Analyze the file\n",
    "    for lines in tqdm(text):\n",
    "        # Find all unique words in the text\n",
    "        words = re.findall('\\w+', lines)\n",
    "        # Compute the frequency of every word\n",
    "        line_word_freq = Counter(words)\n",
    "        # Append new words to dictionary\n",
    "        for word in line_word_freq:\n",
    "            if word in words_freq:\n",
    "                words_freq[word] += line_word_freq[word]\n",
    "    f.close()\n",
    "\n",
    "    # Save the original words_freq_dictionary\n",
    "    with open(f\"{f_path}/raw_words_freq.pkl\", 'wb') as g:\n",
    "        pickle.dump(words_freq, g)\n",
    "        g.close()\n",
    "        \n",
    "    # Number of words used for the final dictionary\n",
    "    dictionary_n_words = 250000\n",
    "    n_words(dictionary_n_words, words_freq, f_path)"
   ]
  },
  {
   "cell_type": "markdown",
   "id": "3b733cd4",
   "metadata": {},
   "source": [
    "The following function restricts the vocabulary length to the desired number, in this case it will be set to 250,000 words. It saves 3 instances, the probabilities of every word to be in the text, the vocabulary, and the total number of aparitions of the word in the text corpus."
   ]
  },
  {
   "cell_type": "markdown",
   "id": "b82a7ce1",
   "metadata": {},
   "source": [
    "## 5.- Creating the text vocabulary and obtain probabilities"
   ]
  },
  {
   "cell_type": "code",
   "execution_count": 17,
   "id": "ca11606d",
   "metadata": {},
   "outputs": [],
   "source": [
    "def n_words(n, words_freq, f_path):\n",
    "    words_freq = Counter(words_freq)\n",
    "    # Find the n most common words\n",
    "    word_most_common = words_freq.most_common()[:n]\n",
    "\n",
    "    # Create a new dictionary with the words\n",
    "    word_freq_dict = {}\n",
    "    for word in word_most_common:\n",
    "        word_freq_dict[word[0]] = word[1]\n",
    "    # Create final vocabulary\n",
    "    vocab = set(word for word in word_freq_dict)\n",
    "    Total = sum(word_freq_dict.values())\n",
    "\n",
    "    print(word_most_common)\n",
    "\n",
    "    # Probabilities of every word\n",
    "    probs = {}\n",
    "    for k in word_freq_dict.keys():\n",
    "        probs[k] = word_freq_dict[k]/Total\n",
    "\n",
    "    # Save the probabilities of every word\n",
    "    with open(f\"{f_path}/probs_es.pkl\", 'wb') as f1:\n",
    "        pickle.dump(probs, f1)\n",
    "        f1.close()\n",
    "    #Save the vocabulary\n",
    "    with open(f\"{f_path}/vocab_es.pkl\", 'wb') as f2:\n",
    "        pickle.dump(vocab, f2)\n",
    "        f2.close()\n",
    "    # Save the dictionary of frequent words\n",
    "    with open(f\"{f_path}/word_freq_es.pkl\", 'wb') as f3:\n",
    "        pickle.dump(word_freq_dict, f3)\n",
    "        f3.close()"
   ]
  },
  {
   "cell_type": "code",
   "execution_count": null,
   "id": "8d99ce17",
   "metadata": {},
   "outputs": [],
   "source": [
    "files_path = \"C:/Python Projects/GitHub/Portfolio/NLP (Natural Languaje Processing)/Autocorrector\"\n",
    "rae_path = \"C:/Python Projects/GitHub/Portfolio/NLP (Natural Languaje Processing)/Autocorrector/RAE_dic.txt\"\n",
    "\n",
    "get_vocab(clean_path, files_path, rae_path)"
   ]
  },
  {
   "cell_type": "markdown",
   "id": "ab0627a2",
   "metadata": {},
   "source": [
    "## 6.- Generating possible candidates of the correct word"
   ]
  },
  {
   "cell_type": "code",
   "execution_count": 15,
   "id": "cf71f0b1",
   "metadata": {},
   "outputs": [],
   "source": [
    "def sentence_autocorrect(sentence):\n",
    "    new_sentence = sentence.split(' ')\n",
    "    sentence_clean = []\n",
    "    if len(new_sentence) > 0:\n",
    "        for word in new_sentence:\n",
    "            if word == '':\n",
    "                continue\n",
    "            predictions = check(word)\n",
    "            sentence_clean.append(predictions)\n",
    "        print(' '.join(sentence_clean))"
   ]
  },
  {
   "cell_type": "code",
   "execution_count": 16,
   "id": "58571521",
   "metadata": {},
   "outputs": [],
   "source": [
    "def check(word):\n",
    "    probs_path = \"C:/Python Projects/GitHub/Portfolio/NLP/Autocorrector/probs_es.pkl\"\n",
    "    vocab_path = \"C:/Python Projects/GitHub/Portfolio/NLP/Autocorrector/vocab_es.pkl\"\n",
    "    probs = pickle.load(open(probs_path, 'rb'))\n",
    "    vocab = pickle.load(open(vocab_path, 'rb'))\n",
    "    if word in vocab:\n",
    "        return (word)\n",
    "    candidates = l_one_edits(word) or l_two_edits(word) or [word]\n",
    "    valid_candidates = [w for w in candidates if w in vocab]\n",
    "    if len(valid_candidates) > 0:\n",
    "        return sorted([(c, probs[c]) for c in valid_candidates], key=lambda tup: tup[1], reverse=True)[0][0]\n",
    "    else:\n",
    "        return (word)"
   ]
  },
  {
   "cell_type": "code",
   "execution_count": 17,
   "id": "29a14e08",
   "metadata": {},
   "outputs": [],
   "source": [
    "def l_one_edits(word):\n",
    "    letters = 'abcdefghijklmnñopqrstuvwxyzáéíóúü'\n",
    "    splits = [(word[:i], word[i:]) for i in range(len(word) + 1)]\n",
    "    deletes = [l + r[1:] for l, r in splits if r]\n",
    "    swaps = [l + r[1] + r[0] + r[2:] for l, r in splits if len(r) > 1]\n",
    "    replaces = [l + c + r[1:] for l, r in splits if r for c in letters]\n",
    "    inserts = [l + c + r for l, r in splits for c in letters]\n",
    "    return set(deletes + swaps + replaces + inserts)\n",
    "\n",
    "def l_two_edits(word):\n",
    "    return set(e2 for e1 in l_one_edits(word) for e2 in l_one_edits(e1))"
   ]
  },
  {
   "cell_type": "markdown",
   "id": "4e1643be",
   "metadata": {},
   "source": [
    "## 7.- Testing"
   ]
  },
  {
   "cell_type": "markdown",
   "id": "6b4b3b00",
   "metadata": {},
   "source": [
    "Finally, we are able to try our model!!\n",
    "\n",
    "We will validate the function of this autocorrect calling the function with the desired string, in this example we will verify the following sentence:\n",
    "\n",
    "hoal munbo oy es un beun dia  --> hola mundo hoy es un buen día"
   ]
  },
  {
   "cell_type": "code",
   "execution_count": 18,
   "id": "01a7246c",
   "metadata": {},
   "outputs": [
    {
     "name": "stdout",
     "output_type": "stream",
     "text": [
      "hola mundo hoy es un buen día\n"
     ]
    }
   ],
   "source": [
    "sentence_autocorrect('hoal munbo oy es un beun día')"
   ]
  },
  {
   "cell_type": "markdown",
   "id": "6fbf5519",
   "metadata": {},
   "source": [
    "Which corresponds to the correct spelling of the sentence"
   ]
  }
 ],
 "metadata": {
  "kernelspec": {
   "display_name": "gpu",
   "language": "python",
   "name": "gpu"
  },
  "language_info": {
   "codemirror_mode": {
    "name": "ipython",
    "version": 3
   },
   "file_extension": ".py",
   "mimetype": "text/x-python",
   "name": "python",
   "nbconvert_exporter": "python",
   "pygments_lexer": "ipython3",
   "version": "3.9.16"
  }
 },
 "nbformat": 4,
 "nbformat_minor": 5
}
